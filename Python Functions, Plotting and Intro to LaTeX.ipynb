{
 "cells": [
  {
   "cell_type": "code",
   "execution_count": 12,
   "id": "32eaf91e",
   "metadata": {},
   "outputs": [
    {
     "name": "stdout",
     "output_type": "stream",
     "text": [
      "0.020110299258129627\n",
      "The errVtotal value I found by hand for the second part of the lab was 0.01985, which rounded to 0.02. The errVtotal calculation I found using Python was 0.020110299258129627 These values do agree with each other, but I do believe that the value calculated using Python is likely more accurate considering the fact that I probably do not input everything into my calculator perfectly correct.\n"
     ]
    }
   ],
   "source": [
    "import numpy as np\n",
    "\n",
    "\n",
    "def rule1(da,c):\n",
    "    dQ=c*da\n",
    "    return dQ\n",
    "\n",
    "def rule2(da, m, c):\n",
    "    dQ=c*m*(da**(m-1)*da)\n",
    "    return dQ\n",
    "\n",
    "def rule3(da, db):\n",
    "    dQ=np.sqrt(da**2+db**2)\n",
    "    return dQ\n",
    "\n",
    "def rule4(da, db, m, n,Q, a, b):\n",
    "    dQ=Q*np.sqrt((m*da/a)**2+(n*db/b)**2)\n",
    "    return dQ\n",
    "\n",
    "            \n",
    "V=4.86\n",
    "x=0.2138\n",
    "y=0.988\n",
    "m=1\n",
    "n=-0.5\n",
    "errx=0.0007\n",
    "erry=0.005\n",
    "errVtotal=rule4(errx, erry, m, n, V, x, y)\n",
    "print (errVtotal)\n",
    "\n",
    "print(\"The errVtotal value I found by hand for the second part of the lab was 0.01985, which rounded to 0.02. The errVtotal calculation I found using Python was\", errVtotal, \"These values do agree with each other, but I do believe that the value calculated using Python is likely more accurate considering the fact that I probably do not input everything into my calculator perfectly correct.\")\n",
    "\n",
    "            "
   ]
  },
  {
   "cell_type": "code",
   "execution_count": 5,
   "id": "fbad9c26",
   "metadata": {
    "scrolled": true
   },
   "outputs": [
    {
     "name": "stdout",
     "output_type": "stream",
     "text": [
      "xmean= 1.1166666666666667\n",
      "standard dev x= 0.17950549357115014\n",
      "The mean of the data set is 1.1166666666666667 and the standard deviation of the data set is 0.17950549357115014\n"
     ]
    }
   ],
   "source": [
    "import numpy as np\n",
    "\n",
    "\n",
    "x=np.array([1.1, 1.3, 1.4, 0.9, 0.95, 1.05])\n",
    "xmean = np.average(x)\n",
    "print (\"xmean=\" ,xmean)\n",
    "\n",
    "std_x = np.std(x)\n",
    "print (\"standard dev x=\" ,std_x)\n",
    "\n",
    "print(\"The mean of the data set is\", xmean, \"and the standard deviation of the data set is\", std_x)\n"
   ]
  },
  {
   "cell_type": "markdown",
   "id": "04d7062a",
   "metadata": {},
   "source": [
    "$\\delta Q = \\sqrt{(\\delta A)^2+(\\delta B)^2}$\n",
    "\n",
    "\n",
    "$\\delta V_i = V_i \\sqrt{(\\frac{\\delta \\overline x}{\\overline x})^2+(\\frac{0.5\\delta y}{y})^2}$\n"
   ]
  },
  {
   "cell_type": "code",
   "execution_count": null,
   "id": "8b2f8530",
   "metadata": {},
   "outputs": [],
   "source": []
  }
 ],
 "metadata": {
  "kernelspec": {
   "display_name": "Python 3",
   "language": "python",
   "name": "python3"
  },
  "language_info": {
   "codemirror_mode": {
    "name": "ipython",
    "version": 3
   },
   "file_extension": ".py",
   "mimetype": "text/x-python",
   "name": "python",
   "nbconvert_exporter": "python",
   "pygments_lexer": "ipython3",
   "version": "3.8.8"
  }
 },
 "nbformat": 4,
 "nbformat_minor": 5
}
